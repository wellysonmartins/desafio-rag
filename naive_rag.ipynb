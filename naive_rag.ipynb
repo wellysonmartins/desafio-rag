{
 "cells": [
  {
   "cell_type": "markdown",
   "metadata": {},
   "source": [
    "## Usando arquivo .env para controlar variaveis de ambiente\n",
    "Para evitar exposição da chave `OPENAI_API_KEY` optei por utilizar arquivo `.env` com a informação da chave.\n",
    "\n",
    "Para seguir o mesmo método basta criar um arquivo `.env` no mesmo diretório do arquivo `naive_rag.ipynb`.\n",
    "A importação da chave será feita através da célula abaixo que faz a instalação de um biblioteca para carregar\n",
    "os valores do arquivo `.env`."
   ]
  },
  {
   "cell_type": "code",
   "execution_count": 11,
   "metadata": {},
   "outputs": [
    {
     "name": "stdout",
     "output_type": "stream",
     "text": [
      "Requirement already satisfied: python-dotenv in ./venv/lib/python3.12/site-packages (1.0.1)\n",
      "Note: you may need to restart the kernel to use updated packages.\n",
      "The dotenv extension is already loaded. To reload it, use:\n",
      "  %reload_ext dotenv\n"
     ]
    }
   ],
   "source": [
    "%pip install python-dotenv\n",
    "import dotenv\n",
    "%load_ext dotenv\n",
    "%dotenv"
   ]
  },
  {
   "cell_type": "code",
   "execution_count": 12,
   "metadata": {},
   "outputs": [],
   "source": [
    "from langchain_text_splitters import RecursiveCharacterTextSplitter\n",
    "from langchain_openai import OpenAIEmbeddings\n",
    "from langchain_openai import ChatOpenAI\n",
    "from langchain_community.vectorstores import Chroma\n",
    "from langchain_community.document_loaders import PyPDFLoader\n",
    "from langchain_core.prompts import PromptTemplate\n",
    "from langchain_core.runnables import RunnableSequence\n",
    "from langchain_core.output_parsers import StrOutputParser"
   ]
  },
  {
   "cell_type": "code",
   "execution_count": 13,
   "metadata": {},
   "outputs": [],
   "source": [
    "# LISTANDO AS PERGUNTAS A SEREM RESPONDIDAS\n",
    "questions = [\n",
    "    \"Qual é a visão de Euclides da Cunha sobre o ambiente natural do sertão nordestino e como ele influencia a vida dos habitantes?\",\n",
    "    \"Quais são as principais características da população sertaneja descritas por Euclides da Cunha? Como ele relaciona essas características com o ambiente em que vivem?\",\n",
    "    \"Qual foi o contexto histórico e político que levou à Guerra de Canudos, segundo Euclides da Cunha?\",\n",
    "    \"Como Euclides da Cunha descreve a figura de Antônio Conselheiro e seu papel na Guerra de Canudos?\",\n",
    "    \"Quais são os principais aspectos da crítica social e política presentes em \\\"Os Sertões\\\"? Como esses aspectos refletem a visão do autor sobre o Brasil da época?\",\n",
    "]"
   ]
  },
  {
   "cell_type": "code",
   "execution_count": 14,
   "metadata": {},
   "outputs": [],
   "source": [
    "# Carregando o Modelo de LLM (Large Language Model) e os Embeddings\n",
    "# O modelo de embeddings é utilizado para gerar representações vetoriais dos textos\n",
    "# O modelo de linguagem (LLM) será usado para gerar respostas a partir do contexto\n",
    "\n",
    "embeddings_model = OpenAIEmbeddings()  # Modelo de embeddings para gerar representações vetoriais\n",
    "\n",
    "# Inicializando o modelo de linguagem GPT-3.5\n",
    "# Este modelo será usado para responder perguntas com base no contexto fornecido\n",
    "llm = ChatOpenAI(\n",
    "    model_name=\"gpt-3.5-turbo\",  # Nome do modelo de linguagem\n",
    "    max_tokens=200,              # Número máximo de tokens na resposta gerada\n",
    ")"
   ]
  },
  {
   "cell_type": "code",
   "execution_count": 15,
   "metadata": {},
   "outputs": [],
   "source": [
    "# Carregando o PDF\n",
    "# O carregador (loader) será responsável por carregar o PDF e dividir o conteúdo em páginas\n",
    "\n",
    "pdf_path = \"os-sertoes.pdf\"  # Caminho para o arquivo PDF\n",
    "\n",
    "# Inicializando o carregador de PDF\n",
    "# O parâmetro 'extract_images=False' garante que imagens não sejam extraídas do PDF\n",
    "loader = PyPDFLoader(pdf_path, extract_images=False)\n",
    "\n",
    "# Carregando o conteúdo do PDF e dividindo-o em páginas\n",
    "# A função 'load_and_split' divide o PDF em uma lista de páginas para processamento posterior\n",
    "pages = loader.load_and_split()\n"
   ]
  },
  {
   "cell_type": "code",
   "execution_count": 16,
   "metadata": {},
   "outputs": [],
   "source": [
    "# Separando o documento em pedaços (chunks) e carregando o banco de dados vetorial\n",
    "# O divisor (splitter) divide o conteúdo do PDF em pedaços menores (chunks) para facilitar o processamento\n",
    "\n",
    "text_splitter = RecursiveCharacterTextSplitter(\n",
    "    chunk_size=4000,          # Tamanho máximo de cada pedaço (chunk)\n",
    "    chunk_overlap=20,         # Sobreposição entre os pedaços (chunks)\n",
    "    length_function=len,      # Função para calcular o comprimento dos pedaços\n",
    "    add_start_index=True,     # Adiciona o índice de início a cada pedaço\n",
    ")\n",
    "\n",
    "# Dividindo o conteúdo do PDF (páginas) em pedaços menores (chunks)\n",
    "chunks = text_splitter.split_documents(pages)\n",
    "\n",
    "# Criando o banco de dados vetorial com os pedaços divididos\n",
    "# Usamos o modelo de embeddings para converter os pedaços em vetores para armazenamento no banco de dados vetorial\n",
    "db = Chroma.from_documents(chunks, embedding=embeddings_model)"
   ]
  },
  {
   "cell_type": "code",
   "execution_count": 17,
   "metadata": {},
   "outputs": [],
   "source": [
    "# Configurando o recuperador (retriever) para buscar os documentos mais relevantes\n",
    "# A busca é realizada com base nos embeddings armazenados no banco de dados vetorial\n",
    "\n",
    "retriever = db.as_retriever(search_kwargs={\"k\": 3})  # Configurando a busca para retornar os 3 documentos mais relevantes\n"
   ]
  },
  {
   "cell_type": "code",
   "execution_count": 18,
   "metadata": {},
   "outputs": [],
   "source": [
    "TEMPLATE = \"\"\"\n",
    "Você é um especialista em literatura brasileira. Responda a pergunta abaixo utilizando o contexto informado\n",
    "\n",
    "Contexto: {context}\n",
    "    \n",
    "Pergunta: {question}\n",
    "\"\"\"\n",
    "\n",
    "prompt = PromptTemplate(input_variables=[\"context\", \"question\"], template=TEMPLATE)\n",
    "parser = StrOutputParser()\n",
    "sequence = RunnableSequence(prompt | llm | parser)"
   ]
  },
  {
   "cell_type": "code",
   "execution_count": 19,
   "metadata": {},
   "outputs": [],
   "source": [
    "# Função para responder a uma pergunta com base no contexto recuperado\n",
    "# A função usa o recuperador (retriever) para obter o contexto relevante e depois gera a resposta utilizando a sequência\n",
    "\n",
    "def answer_question(question: str):\n",
    "    # Recuperando o contexto relevante para a pergunta usando o recuperador\n",
    "    context = retriever.invoke(question)\n",
    "\n",
    "    # Gerando a resposta com o modelo de linguagem e o parser, passando o contexto e a pergunta\n",
    "    response = sequence.invoke({\"context\": context, \"question\": question})\n",
    "\n",
    "    # Retornando a resposta gerada\n",
    "    return response"
   ]
  },
  {
   "cell_type": "code",
   "execution_count": 20,
   "metadata": {},
   "outputs": [
    {
     "name": "stdout",
     "output_type": "stream",
     "text": [
      "{'numero': 0, 'pergunta': 'Qual é a visão de Euclides da Cunha sobre o ambiente natural do sertão nordestino e como ele influencia a vida dos habitantes?', 'resposta': 'Euclides da Cunha descreve o ambiente natural do sertão nordestino como um lugar de extrema dificuldade e desafio, onde a vida é marcada pela aridez, pela falta de recursos e pela luta constante pela sobrevivência. Ele destaca a importância da terra fértil na região, que libertou os indígenas, mas também menciona a cultura extensiva da cana, importada da Madeira, que determinou o esquecimento dos sertões.\\n\\nEssa realidade do sertão nordestino influencia diretamente a vida dos habitantes, que são obrigados a enfrentar condições adversas, como a escassez de água, a falta de infraestrutura e a ausência de oportunidades. Euclides da Cunha mostra como essas dificuldades moldam o caráter e a cultura das pessoas que viv'}\n",
      "{'numero': 1, 'pergunta': 'Quais são as principais características da população sertaneja descritas por Euclides da Cunha? Como ele relaciona essas características com o ambiente em que vivem?', 'resposta': 'Euclides da Cunha descreve a população sertaneja como marcada por características genéticas, topográficas e geológicas que influenciam suas vidas de forma intensa. Ele aponta que as condições genéticas reagem fortemente às influências do ambiente, contribuindo para agravá-las, e que todas essas influências persistem de forma recíproca. O autor destaca que o conflito entre as condições genéticas e o ambiente cria um círculo vicioso indefinido, resultando em uma significação mesológica única para o local. Euclides da Cunha relaciona as características da população sertaneja com o ambiente em que vivem ao mostrar como as condições do lugar moldam e influenciam diretamente a vida e o desenvolvimento dessas pessoas.'}\n",
      "{'numero': 2, 'pergunta': 'Qual foi o contexto histórico e político que levou à Guerra de Canudos, segundo Euclides da Cunha?', 'resposta': 'Segundo Euclides da Cunha, o contexto histórico e político que levou à Guerra de Canudos foi marcado por uma série de expedições punitivas enviadas pelo governo republicano contra a comunidade de Canudos. O líder do movimento, Antônio Vicente Mendes Maciel, conhecido como Conselheiro, foi visto como uma ameaça à ordem republicana, sendo acusado de representar uma reação monárquica. As expedições militares foram justificadas sob a alegação de combater essa suposta ameaça, resultando em confrontos violentos que culminaram na destruição da comunidade de Canudos. Euclides da Cunha denunciou o massacre e a brutalidade dessas expedições, retratando a Guerra de Canudos como um verdadeiro crime contra a população sertaneja.'}\n",
      "{'numero': 3, 'pergunta': 'Como Euclides da Cunha descreve a figura de Antônio Conselheiro e seu papel na Guerra de Canudos?', 'resposta': 'Euclides da Cunha descreve Antônio Conselheiro como um líder religioso fanático, capaz de atrair centenas de seguidores que o adoram como se fosse um Deus vivo. Ele é retratado como alguém que exerce grande influência sobre as pessoas, levando-as a seguir suas ordens em detrimento das do vigário da paróquia. Conselheiro é descrito como alguém que promove a construção de uma capela, mas ao mesmo tempo é acusado de tolerar atentados cometidos por seus seguidores, que se envolvem em práticas questionáveis para financiar a obra. Na Guerra de Canudos, ele é visto como um líder que, apesar de permitir a presença de seguidores inválidos e inofensivos em seu arraial, acaba sendo utilizado por abastados com interesses políticos para'}\n",
      "{'numero': 4, 'pergunta': 'Quais são os principais aspectos da crítica social e política presentes em \"Os Sertões\"? Como esses aspectos refletem a visão do autor sobre o Brasil da época?', 'resposta': 'Os principais aspectos da crítica social e política presentes em \"Os Sertões\" envolvem a denúncia da injustiça social, a análise da realidade geográfica e humana do sertão, e a reflexão sobre a transformação da sociedade brasileira no final do século XIX. Euclides da Cunha aborda a questão da desigualdade social, a condição do sertanejo, a figura de Antônio Conselheiro e a relação entre o sertão e a civilização litorânea.\\n\\nEsses aspectos refletem a visão do autor sobre o Brasil da época ao mostrar a realidade complexa e muitas vezes brutal do sertão, evidenciando as contradições e injustiças presentes na sociedade. Euclides da Cunha busca compreender e explicar científica e literariamente aque'}\n"
     ]
    }
   ],
   "source": [
    "# Iterando sobre as perguntas e obtendo as respostas\n",
    "# 'enumerate' permite obter tanto o índice quanto a pergunta de cada item na lista\n",
    "for index, question in enumerate(questions):\n",
    "    # Obtendo a resposta para a pergunta atual utilizando a função 'answer_question'\n",
    "    resposta = answer_question(question)\n",
    "    # Exibindo o número da pergunta, a pergunta e a resposta gerada\n",
    "    print({\"numero\": index, \"pergunta\": question, \"resposta\": resposta})"
   ]
  }
 ],
 "metadata": {
  "kernelspec": {
   "display_name": "venv",
   "language": "python",
   "name": "python3"
  },
  "language_info": {
   "codemirror_mode": {
    "name": "ipython",
    "version": 3
   },
   "file_extension": ".py",
   "mimetype": "text/x-python",
   "name": "python",
   "nbconvert_exporter": "python",
   "pygments_lexer": "ipython3",
   "version": "3.12.6"
  }
 },
 "nbformat": 4,
 "nbformat_minor": 2
}
