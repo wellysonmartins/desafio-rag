{
 "cells": [
  {
   "cell_type": "markdown",
   "metadata": {},
   "source": [
    "## Usando arquivo .env para controlar variaveis de ambiente\n",
    "Para evitar exposição da chave `OPENAI_API_KEY` optei por utilizar arquivo `.env` com a informação da chave.\n",
    "\n",
    "Para seguir o mesmo método basta criar um arquivo `.env` no mesmo diretório do arquivo `parent_rag.ipynb`.\n",
    "A importação da chave será feita através da célula abaixo que faz a instalação de um biblioteca para carregar\n",
    "os valores do arquivo `.env`."
   ]
  },
  {
   "cell_type": "code",
   "execution_count": 12,
   "metadata": {},
   "outputs": [
    {
     "name": "stdout",
     "output_type": "stream",
     "text": [
      "Requirement already satisfied: python-dotenv in ./venv/lib/python3.12/site-packages (1.0.1)\n",
      "Note: you may need to restart the kernel to use updated packages.\n",
      "The dotenv extension is already loaded. To reload it, use:\n",
      "  %reload_ext dotenv\n"
     ]
    }
   ],
   "source": [
    "%pip install python-dotenv\n",
    "import dotenv\n",
    "%load_ext dotenv\n",
    "%dotenv"
   ]
  },
  {
   "cell_type": "code",
   "execution_count": 13,
   "metadata": {},
   "outputs": [],
   "source": [
    "from langchain_text_splitters import RecursiveCharacterTextSplitter\n",
    "from langchain_openai import OpenAIEmbeddings\n",
    "from langchain_openai import ChatOpenAI\n",
    "from langchain_community.vectorstores import Chroma\n",
    "from langchain_community.document_loaders import PyPDFLoader\n",
    "from langchain.storage import InMemoryByteStore\n",
    "from langchain.retrievers import ParentDocumentRetriever\n",
    "from langchain_core.prompts import PromptTemplate\n",
    "from langchain_core.runnables import RunnableSequence\n",
    "from langchain_core.output_parsers import StrOutputParser\n"
   ]
  },
  {
   "cell_type": "code",
   "execution_count": 14,
   "metadata": {},
   "outputs": [],
   "source": [
    "# LISTANDO AS PERGUNTAS A SEREM RESPONDIDAS\n",
    "questions = [\n",
    "    \"Qual é a visão de Euclides da Cunha sobre o ambiente natural do sertão nordestino e como ele influencia a vida dos habitantes?\",\n",
    "    \"Quais são as principais características da população sertaneja descritas por Euclides da Cunha? Como ele relaciona essas características com o ambiente em que vivem?\",\n",
    "    \"Qual foi o contexto histórico e político que levou à Guerra de Canudos, segundo Euclides da Cunha?\",\n",
    "    \"Como Euclides da Cunha descreve a figura de Antônio Conselheiro e seu papel na Guerra de Canudos?\",\n",
    "    \"Quais são os principais aspectos da crítica social e política presentes em \\\"Os Sertões\\\"? Como esses aspectos refletem a visão do autor sobre o Brasil da época?\",\n",
    "]"
   ]
  },
  {
   "cell_type": "code",
   "execution_count": 15,
   "metadata": {},
   "outputs": [],
   "source": [
    "# Inicializando o modelo de embeddings\n",
    "# Este modelo é usado para gerar representações vetoriais de textos\n",
    "embeddings_model = OpenAIEmbeddings()\n",
    "\n",
    "# Inicializando o modelo de linguagem (LLM)\n",
    "# Aqui configuramos o nome do modelo e o número máximo de tokens na resposta\n",
    "llm = ChatOpenAI(\n",
    "    model_name=\"gpt-3.5-turbo\",  # Nome do modelo de linguagem escolhido\n",
    "    max_tokens=200,             # Limite de tokens para as respostas geradas\n",
    ")"
   ]
  },
  {
   "cell_type": "code",
   "execution_count": 16,
   "metadata": {},
   "outputs": [],
   "source": [
    "# Caminho do arquivo PDF\n",
    "pdf_path = \"os-sertoes.pdf\"\n",
    "\n",
    "# Inicializando o carregador de PDF\n",
    "# Aqui estamos configurando para não extrair imagens do PDF\n",
    "load_pdf = PyPDFLoader(pdf_path, extract_images=False)\n",
    "\n",
    "# Carregando e dividindo o PDF em páginas\n",
    "# Este método carrega o conteúdo do PDF e divide em uma lista de páginas\n",
    "pages = load_pdf.load_and_split()"
   ]
  },
  {
   "cell_type": "code",
   "execution_count": 17,
   "metadata": {},
   "outputs": [],
   "source": [
    "\n",
    "# Configuração do divisor para partes menores (filhos)\n",
    "# Divide o texto em pedaços menores com tamanho máximo de 200 caracteres\n",
    "child_splitter = RecursiveCharacterTextSplitter(\n",
    "    chunk_size=200  # Tamanho máximo de cada pedaço\n",
    ")\n",
    "\n",
    "# Configuração do divisor para partes maiores (pais)\n",
    "# Divide o texto em pedaços maiores, com controle de sobreposição e outras configurações\n",
    "parent_splitter = RecursiveCharacterTextSplitter(\n",
    "    chunk_size=4000,          # Tamanho máximo de cada pedaço\n",
    "    chunk_overlap=200,        # Número de caracteres de sobreposição entre os pedaços\n",
    "    length_function=len,      # Função para calcular o comprimento dos pedaços (aqui usamos `len`)\n",
    "    add_start_index=True      # Adiciona o índice inicial de cada pedaço ao resultado\n",
    ")\n"
   ]
  },
  {
   "cell_type": "code",
   "execution_count": 18,
   "metadata": {},
   "outputs": [],
   "source": [
    "# Inicializando o armazenamento em memória\n",
    "# Este armazenamento mantém os dados na memória durante a execução\n",
    "store = InMemoryByteStore()\n",
    "\n",
    "# Configurando o armazenamento vetorial\n",
    "# Aqui, o armazenamento utiliza o modelo de embeddings fornecido\n",
    "vectorstore = Chroma(embedding_function=embeddings_model)"
   ]
  },
  {
   "cell_type": "code",
   "execution_count": 19,
   "metadata": {},
   "outputs": [],
   "source": [
    "# Configurando o recuperador de documentos principais (ParentDocumentRetriever)\n",
    "# Este objeto será usado para gerenciar a recuperação de documentos com base em armazenamentos e divisores de texto\n",
    "\n",
    "parent_document_retriever = ParentDocumentRetriever(\n",
    "    vectorstore=vectorstore,       # Armazenamento vetorial para busca de documentos\n",
    "    docstore=store,                # Armazenamento em memória para os documentos\n",
    "    child_splitter=child_splitter, # Divisor para pedaços menores (filhos)\n",
    "    parent_splitter=parent_splitter # Divisor para pedaços maiores (pais)\n",
    ")\n",
    "\n",
    "# Adicionando documentos ao recuperador\n",
    "# O método abaixo insere as páginas carregadas no sistema, associando opcionalmente IDs a elas\n",
    "parent_document_retriever.add_documents(pages, ids=None)"
   ]
  },
  {
   "cell_type": "code",
   "execution_count": 20,
   "metadata": {},
   "outputs": [],
   "source": [
    "# Definindo o template de prompt\n",
    "# Este template configura como o sistema interpretará o contexto e a pergunta\n",
    "TEMPLATE = \"\"\"\n",
    "Você é um especialista em literatura brasileira. Responda a pergunta abaixo utilizando o contexto informado:\n",
    "\n",
    "Contexto: {context}\n",
    "\n",
    "Pergunta: {question}\n",
    "\"\"\"\n",
    "\n",
    "# Configurando o objeto de template para o prompt\n",
    "# Ele utiliza as variáveis de entrada \"context\" e \"question\" para gerar o texto formatado\n",
    "prompt = PromptTemplate(input_variables=[\"context\", \"question\"], template=TEMPLATE)\n",
    "\n",
    "# Configurando o analisador de saída (parser)\n",
    "# O parser converte a saída do modelo em um formato estruturado\n",
    "parser = StrOutputParser()\n",
    "\n",
    "# Configurando a sequência executável\n",
    "# A sequência define o fluxo de processamento:\n",
    "# 1. O prompt é formatado\n",
    "# 2. O modelo de linguagem (LLM) gera a resposta\n",
    "# 3. O parser processa a saída final\n",
    "sequence = RunnableSequence(prompt | llm | parser)\n"
   ]
  },
  {
   "cell_type": "code",
   "execution_count": 21,
   "metadata": {},
   "outputs": [],
   "source": [
    "# Função para responder a uma pergunta com base no contexto fornecido\n",
    "# A função utiliza o recuperador de documentos para obter o contexto e a sequência para gerar a resposta\n",
    "\n",
    "def answer_question(question: str):\n",
    "    # Recuperando o contexto relacionado à pergunta usando o recuperador de documentos\n",
    "    context = parent_document_retriever.invoke(question)\n",
    "\n",
    "    # Gerando a resposta utilizando o modelo de linguagem e o parser\n",
    "    response = sequence.invoke({\"context\": context, \"question\": question})\n",
    "\n",
    "    # Retornando a resposta gerada\n",
    "    return response"
   ]
  },
  {
   "cell_type": "code",
   "execution_count": 22,
   "metadata": {},
   "outputs": [
    {
     "name": "stdout",
     "output_type": "stream",
     "text": [
      "{'numero': 0, 'pergunta': 'Qual é a visão de Euclides da Cunha sobre o ambiente natural do sertão nordestino e como ele influencia a vida dos habitantes?', 'resposta': 'Euclides da Cunha descreve o ambiente natural do sertão nordestino como uma região árida e hostil, marcada por extensos plainos ondulados e serranias. Ele destaca a dureza da natureza, com afloramentos gnáissicos e planaltos que se dobram, dificultando a vida dos habitantes locais. Essas características influenciam diretamente a vida dos habitantes, tornando a região desafiadora para a sobrevivência, com caudais de rios que revelam um pendor insensível para o norte e a presença de formações primitivas desaparecendo sob complexas séries de xistos metamórficos. Euclides da Cunha destaca a imponência dos quadros naturais do sertão nordestino, ressaltando como essas características influenc'}\n",
      "{'numero': 1, 'pergunta': 'Quais são as principais características da população sertaneja descritas por Euclides da Cunha? Como ele relaciona essas características com o ambiente em que vivem?', 'resposta': 'Euclides da Cunha descreve a população sertaneja como sendo resiliente, adaptada às condições adversas do sertão, caracterizado pelo clima árido, pela escassez de recursos naturais e pela dureza da vida no interior do Brasil. Ele destaca a força física e psicológica dessas pessoas, que enfrentam desafios constantes para sobreviver em um ambiente hostil.\\n\\nO autor relaciona essas características da população sertaneja com o ambiente em que vivem, mostrando como a geografia e o clima do sertão moldaram o modo de vida e a mentalidade dessas pessoas. Ele demonstra como a aridez do solo, as secas recorrentes e a falta de infraestrutura impactam diretamente a vida da população, tornando-as mais resilientes e adaptadas a essas condições extremas.\\n\\nEucl'}\n",
      "{'numero': 2, 'pergunta': 'Qual foi o contexto histórico e político que levou à Guerra de Canudos, segundo Euclides da Cunha?', 'resposta': 'Segundo Euclides da Cunha, o contexto histórico e político que levou à Guerra de Canudos foi marcado pela repressão das expedições militares contra a comunidade de Canudos, liderada pelo beato Antônio Conselheiro. As expedições foram justificadas sob a alegação de que Canudos representava uma reação monárquica que ameaçava as instituições republicanas. Além disso, a mentalidade intelectual da época estava dividida entre monarquistas e republicanos, o que contribuiu para a escalada do conflito. Euclides da Cunha denunciou a violência e a brutalidade das expedições militares em seus escritos, destacando a tragédia que se desenrolou na região.'}\n",
      "{'numero': 3, 'pergunta': 'Como Euclides da Cunha descreve a figura de Antônio Conselheiro e seu papel na Guerra de Canudos?', 'resposta': 'Euclides da Cunha descreve Antônio Conselheiro como um líder carismático e messiânico, que conseguiu reunir um grande número de seguidores em Canudos. Ele é retratado como uma figura que inspirou devoção e fervor religioso em seu povo, desafiando as autoridades e resistindo às expedições militares enviadas para destruir a comunidade. Antônio Conselheiro é visto como um símbolo de resistência e luta contra a opressão, enquanto as autoridades são retratadas como violentas e sanguinárias na tentativa de eliminar a comunidade de Canudos.'}\n",
      "{'numero': 4, 'pergunta': 'Quais são os principais aspectos da crítica social e política presentes em \"Os Sertões\"? Como esses aspectos refletem a visão do autor sobre o Brasil da época?', 'resposta': 'Em \"Os Sertões\", Euclides da Cunha aborda principalmente a questão da violência, da miséria e da luta pela sobrevivência no sertão brasileiro, especialmente durante a Guerra de Canudos. O autor faz uma análise profunda da sociedade brasileira da época, destacando a desigualdade social, a falta de infraestrutura e a influência de questões políticas na vida do povo sertanejo.\\n\\nA crítica social e política presente na obra reflete a visão de Euclides da Cunha sobre o Brasil do final do século XIX, marcado por transformações políticas, sociais e econômicas. O autor denuncia a marginalização e a exploração do povo sertanejo, mostrando como a elite política e econômica do país ignorava as condições precárias em que viviam essas pop'}\n"
     ]
    }
   ],
   "source": [
    "# Iterando sobre as perguntas e obtendo as respostas\n",
    "# 'enumerate' permite obter tanto o índice quanto a pergunta de cada item na lista\n",
    "for index, question in enumerate(questions):\n",
    "    # Obtendo a resposta para a pergunta atual utilizando a função 'answer_question'\n",
    "    resposta = answer_question(question)\n",
    "    # Exibindo o número da pergunta, a pergunta e a resposta gerada\n",
    "    print({\"numero\": index, \"pergunta\": question, \"resposta\": resposta})"
   ]
  }
 ],
 "metadata": {
  "kernelspec": {
   "display_name": "venv",
   "language": "python",
   "name": "python3"
  },
  "language_info": {
   "codemirror_mode": {
    "name": "ipython",
    "version": 3
   },
   "file_extension": ".py",
   "mimetype": "text/x-python",
   "name": "python",
   "nbconvert_exporter": "python",
   "pygments_lexer": "ipython3",
   "version": "3.12.6"
  }
 },
 "nbformat": 4,
 "nbformat_minor": 2
}
