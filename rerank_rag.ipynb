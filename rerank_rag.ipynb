{
 "cells": [
  {
   "cell_type": "markdown",
   "metadata": {},
   "source": [
    "## Usando arquivo .env para controlar variaveis de ambiente\n",
    "Para evitar exposição da chave `OPENAI_API_KEY` optei por utilizar arquivo `.env` com a informação da chave.\n",
    "\n",
    "Para seguir o mesmo método basta criar um arquivo `.env` no mesmo diretório do arquivo `rerank_rag.ipynb`.\n",
    "A importação da chave será feita através da célula abaixo que faz a instalação de um biblioteca para carregar\n",
    "os valores do arquivo `.env`."
   ]
  },
  {
   "cell_type": "code",
   "execution_count": 1,
   "metadata": {},
   "outputs": [
    {
     "name": "stdout",
     "output_type": "stream",
     "text": [
      "Requirement already satisfied: python-dotenv in ./venv/lib/python3.12/site-packages (1.0.1)\n",
      "Note: you may need to restart the kernel to use updated packages.\n"
     ]
    }
   ],
   "source": [
    "%pip install python-dotenv\n",
    "import dotenv\n",
    "%load_ext dotenv\n",
    "%dotenv"
   ]
  },
  {
   "cell_type": "code",
   "execution_count": 2,
   "metadata": {},
   "outputs": [],
   "source": [
    "from langchain_text_splitters import RecursiveCharacterTextSplitter\n",
    "from langchain_openai import OpenAIEmbeddings, ChatOpenAI\n",
    "from langchain_community.vectorstores import Chroma\n",
    "from langchain_community.document_loaders import PyPDFLoader\n",
    "from langchain_core.prompts import ChatPromptTemplate\n",
    "from langchain_core.runnables import RunnablePassthrough, RunnableParallel\n",
    "from langchain_core.output_parsers import StrOutputParser\n",
    "\n",
    "from langchain.retrievers.contextual_compression import ContextualCompressionRetriever\n",
    "from langchain_cohere import CohereRerank"
   ]
  },
  {
   "cell_type": "code",
   "execution_count": 3,
   "metadata": {},
   "outputs": [],
   "source": [
    "# LISTANDO AS PERGUNTAS A SEREM RESPONDIDAS\n",
    "questions = [\n",
    "    \"Qual é a visão de Euclides da Cunha sobre o ambiente natural do sertão nordestino e como ele influencia a vida dos habitantes?\",\n",
    "    \"Quais são as principais características da população sertaneja descritas por Euclides da Cunha? Como ele relaciona essas características com o ambiente em que vivem?\",\n",
    "    \"Qual foi o contexto histórico e político que levou à Guerra de Canudos, segundo Euclides da Cunha?\",\n",
    "    \"Como Euclides da Cunha descreve a figura de Antônio Conselheiro e seu papel na Guerra de Canudos?\",\n",
    "    \"Quais são os principais aspectos da crítica social e política presentes em \\\"Os Sertões\\\"? Como esses aspectos refletem a visão do autor sobre o Brasil da época?\",\n",
    "]"
   ]
  },
  {
   "cell_type": "code",
   "execution_count": 4,
   "metadata": {},
   "outputs": [],
   "source": [
    "# Carregando os modelos OpenAI - Embedding e Chat\n",
    "# O modelo de embedding será usado para gerar representações vetoriais dos textos\n",
    "# O modelo de chat será usado para gerar respostas a partir do contexto fornecido\n",
    "\n",
    "# Carregando o modelo de embeddings da OpenAI\n",
    "embeddings = OpenAIEmbeddings(model=\"text-embedding-3-small\")  # Modelo de embedding para gerar vetores\n",
    "\n",
    "# Inicializando o modelo de linguagem ChatGPT (gpt-3.5-turbo)\n",
    "# Este modelo será usado para gerar respostas para as perguntas com base no contexto\n",
    "llm = ChatOpenAI(\n",
    "    model_name=\"gpt-3.5-turbo\",  # Nome do modelo de linguagem\n",
    "    max_tokens=500,              # Número máximo de tokens na resposta gerada\n",
    ")\n"
   ]
  },
  {
   "cell_type": "code",
   "execution_count": 5,
   "metadata": {},
   "outputs": [],
   "source": [
    "# Carregando o PDF\n",
    "# O carregador (loader) será responsável por carregar o PDF e dividir o conteúdo em páginas\n",
    "\n",
    "pdf_link = \"os-sertoes.pdf\"  # Caminho para o arquivo PDF\n",
    "\n",
    "# Inicializando o carregador de PDF\n",
    "# O parâmetro 'extract_images=False' garante que imagens não sejam extraídas do PDF\n",
    "loader = PyPDFLoader(pdf_link, extract_images=False)\n",
    "\n",
    "# Carregando o conteúdo do PDF e dividindo-o em páginas\n",
    "# A função 'load_and_split' divide o PDF em uma lista de páginas para processamento posterior\n",
    "pages = loader.load_and_split()\n"
   ]
  },
  {
   "cell_type": "code",
   "execution_count": 6,
   "metadata": {},
   "outputs": [],
   "source": [
    "# Separando o conteúdo em chunks (pedaços menores)\n",
    "# O objetivo é dividir o conteúdo do PDF em pedaços menores para processamento posterior\n",
    "\n",
    "text_splitter = RecursiveCharacterTextSplitter(\n",
    "    chunk_size=4000,          # Tamanho máximo de cada pedaço (chunk)\n",
    "    chunk_overlap=20,         # Sobreposição entre os pedaços (chunks)\n",
    "    length_function=len,      # Função para calcular o comprimento dos pedaços\n",
    "    add_start_index=True      # Adiciona o índice de início a cada pedaço\n",
    ")\n",
    "\n",
    "# Dividindo o conteúdo do PDF (páginas) em pedaços menores (chunks)\n",
    "chunks = text_splitter.split_documents(pages)\n"
   ]
  },
  {
   "cell_type": "code",
   "execution_count": 7,
   "metadata": {},
   "outputs": [
    {
     "name": "stderr",
     "output_type": "stream",
     "text": [
      "/tmp/ipykernel_22507/3538103667.py:4: LangChainDeprecationWarning: The class `Chroma` was deprecated in LangChain 0.2.9 and will be removed in 1.0. An updated version of the class exists in the :class:`~langchain-chroma package and should be used instead. To use it run `pip install -U :class:`~langchain-chroma` and import as `from :class:`~langchain_chroma import Chroma``.\n",
      "  vectordb = Chroma(embedding_function=embeddings)  # Criando o banco de dados vetorial utilizando o modelo de embeddings\n"
     ]
    }
   ],
   "source": [
    "# Salvando os chunks no VectorDB\n",
    "# O banco de dados vetorial (VectorDB) armazena os pedaços (chunks) em formato vetorial para recuperação posterior\n",
    "\n",
    "vectordb = Chroma(embedding_function=embeddings)  # Criando o banco de dados vetorial utilizando o modelo de embeddings\n",
    "\n",
    "# Carregando os documentos (chunks) no VectorDB\n",
    "# Aqui, estamos armazenando os pedaços (chunks) no banco de dados vetorial para que possam ser recuperados mais tarde\n",
    "vectordb.add_documents(chunks)\n",
    "\n",
    "# Carregando o DB e configurando o recuperador (retriever)\n",
    "# O recuperador irá buscar os 10 documentos mais relevantes baseados na consulta\n",
    "naive_retriever = vectordb.as_retriever(search_kwargs={\"k\": 10})\n"
   ]
  },
  {
   "cell_type": "code",
   "execution_count": 8,
   "metadata": {},
   "outputs": [],
   "source": [
    "# Configurando o Reranker para melhorar a qualidade da recuperação\n",
    "# O reranker é responsável por reclassificar os documentos retornados pelo recuperador, mantendo os mais relevantes\n",
    "\n",
    "rerank = CohereRerank(model=\"rerank-v3.5\", top_n=3)  # Rerank com o modelo \"rerank-v3.5\", retornando os 3 melhores resultados\n",
    "\n",
    "# Criando o ContextualCompressionRetriever\n",
    "# O compressor contextual é responsável por combinar o reranker com o recuperador base para melhorar a precisão das respostas\n",
    "compressor_retriever = ContextualCompressionRetriever(\n",
    "    base_compressor=rerank,       # Usando o reranker para melhorar a recuperação\n",
    "    base_retriever=naive_retriever,  # Usando o recuperador base (naive_retriever)\n",
    ")\n"
   ]
  },
  {
   "cell_type": "code",
   "execution_count": 9,
   "metadata": {},
   "outputs": [],
   "source": [
    "# Definindo o template para o prompt de Chat\n",
    "# O template será usado para estruturar a pergunta e o contexto que serão passados para o modelo de linguagem\n",
    "TEMPLATE = \"\"\"\n",
    "Você é um especialista em literatura brasileira. Responda a pergunta abaixo utilizando o contexto informado\n",
    "\n",
    "Contexto: {context}\n",
    "    \n",
    "Pergunta: {question}\n",
    "\"\"\"\n",
    "\n",
    "# Criando o prompt do chat a partir do template definido\n",
    "# 'ChatPromptTemplate.from_template' cria um prompt com base no template fornecido\n",
    "rag_prompt = ChatPromptTemplate.from_template(TEMPLATE)"
   ]
  },
  {
   "cell_type": "code",
   "execution_count": 10,
   "metadata": {},
   "outputs": [],
   "source": [
    "# Configurando o processo de recuperação paralelo\n",
    "# A recuperação paralelo permite passar a pergunta e o contexto para o recuperador de forma independente\n",
    "\n",
    "setup_retrieval = RunnableParallel({\"question\": RunnablePassthrough(), \"context\": compressor_retriever})  # Processamento paralelo para pergunta e contexto\n",
    "\n",
    "# Inicializando o parser para a saída\n",
    "# O parser converte a resposta gerada pelo modelo de linguagem para um formato desejado\n",
    "output_parser = StrOutputParser()\n",
    "\n",
    "# Criando a cadeia de recuperação com compressão\n",
    "# O fluxo de execução inclui o setup de recuperação, o prompt, o modelo de linguagem e o parser de saída\n",
    "compressor_retrieval_chain = setup_retrieval | rag_prompt | llm | output_parser\n"
   ]
  },
  {
   "cell_type": "code",
   "execution_count": 11,
   "metadata": {},
   "outputs": [],
   "source": [
    "# Função para responder a uma pergunta utilizando o fluxo de recuperação com compressão\n",
    "# A função usa a cadeia de recuperação configurada para processar a pergunta e gerar uma resposta\n",
    "\n",
    "def answer_question(question: str):\n",
    "    # Chamando a cadeia de recuperação para processar a pergunta e retornar a resposta\n",
    "    return compressor_retrieval_chain.invoke(question)\n"
   ]
  },
  {
   "cell_type": "code",
   "execution_count": 12,
   "metadata": {},
   "outputs": [
    {
     "name": "stdout",
     "output_type": "stream",
     "text": [
      "{'numero': 0, 'pergunta': 'Qual é a visão de Euclides da Cunha sobre o ambiente natural do sertão nordestino e como ele influencia a vida dos habitantes?', 'resposta': 'Euclides da Cunha descreve o ambiente natural do sertão nordestino como um local de extremos, onde há uma alternância entre períodos de fertilidade e de seca intensa. Ele destaca a importância da água como recurso escasso e fundamental para a sobrevivência dos habitantes da região. O autor ressalta que a natureza cria um jogo de antíteses nesse ambiente, com áreas férteis contrastando com estepes áridas. Ele também menciona a influência da ação humana, como o desmatamento desordenado, na degradação do solo e na ocorrência de queimadas, que contribuem para a intensificação da seca e para o sofrimento da população local. Euclides da Cunha mostra como a relação entre o homem e o meio ambiente no sertão nordestino é marcada por desafios e dificuldades decorrentes das características naturais da região.'}\n",
      "{'numero': 1, 'pergunta': 'Quais são as principais características da população sertaneja descritas por Euclides da Cunha? Como ele relaciona essas características com o ambiente em que vivem?', 'resposta': 'Euclides da Cunha descreve as principais características da população sertaneja como sendo uma mistura de brancos, negros e mulatos de todos os sangues e matizes, resultando em uma mestiçagem generalizada que produz diversas variedades de características físicas e morais. À medida que se aprofunda na análise, o observador nota uma maior uniformidade de caracteres físicos e morais, chegando finalmente ao \"sertanejo\", que é descrito como a rocha viva da nossa raça.\\n\\nEle relaciona essas características com o ambiente em que vivem ao apontar que o meio físico dos sertões, com sua flora agressiva, clima impiedoso, secas periódicas e solo estéril, influenciou diretamente na formação e evolução da população sertaneja. A região ingrata dos sertões, isolada entre serranias desnudas e grandes matas, foi o asilo do tapuia, batido pelo português e evolvendo para se adaptar a esse ambiente hostil. Euclides da Cunha destaca que a gênese da população sertaneja reflete a tríplice disposição do Rio São Francisco, refletindo paralelamente as modalidades variáveis da marcha histórica do Brasil.'}\n",
      "{'numero': 2, 'pergunta': 'Qual foi o contexto histórico e político que levou à Guerra de Canudos, segundo Euclides da Cunha?', 'resposta': 'Segundo Euclides da Cunha, o contexto histórico e político que levou à Guerra de Canudos foi marcado por uma série de expedições punitivas enviadas contra a comunidade de Canudos, sob a alegação de que representava uma reação monárquica que ameaçava as instituições republicanas. Antônio Conselheiro, líder da comunidade, foi visto como um desafiador do novo regime republicano, o que resultou na mobilização de forças militares para destruir Canudos. A guerra foi também influenciada pela mentalidade intelectual da época, dividida entre monarquistas e republicanos, criando um ambiente propício para a escalada do conflito.'}\n",
      "{'numero': 3, 'pergunta': 'Como Euclides da Cunha descreve a figura de Antônio Conselheiro e seu papel na Guerra de Canudos?', 'resposta': 'Euclides da Cunha descreve Antônio Conselheiro como um pietista que ansiava pelo reino de Deus, distanciando-se do catolicismo malcompreendido e buscando um enlace que acabou sendo nefasto para ele. Ele ordenava penitências que beneficiavam as localidades, reconstruindo templos, renovando cemitérios e erigindo construções novas. Antônio Conselheiro era retratado como alguém que seguia seu caminho pelos sertões, sem se importar com os que o perseguiram. Em relação à Guerra de Canudos, Euclides da Cunha descreveu os conflitos entre os Maciéis e os Araújos, destacando a prepotência dos mandões de aldeia e a exploração exercida sobre a bravura instintiva do sertanejo. A luta entre as famílias era vista como uma variante das muitas outras que surgiam na região, comprometendo as descendências e tornando hereditários os rancores e as vinganças.'}\n",
      "{'numero': 4, 'pergunta': 'Quais são os principais aspectos da crítica social e política presentes em \"Os Sertões\"? Como esses aspectos refletem a visão do autor sobre o Brasil da época?', 'resposta': 'Os principais aspectos da crítica social e política presentes em \"Os Sertões\" estão relacionados à realidade geográfica e humana do homem do sertão, representada de forma complexa e profunda. O autor, Euclides da Cunha, aborda questões como a luta dos sertanejos, a figura de Antônio Conselheiro e a transformação sofrida pela sociedade brasileira nas décadas finais do século XIX. \\n\\nEsses aspectos refletem a visão do autor sobre o Brasil da época ao mostrar a brutalidade e a violência presentes nas relações entre os diferentes grupos sociais, a desigualdade e a marginalização dos sertanejos, além de questionar a civilização versus barbárie. Euclides da Cunha evidencia a complexidade da realidade brasileira, destacando a diversidade étnica e cultural do país, e critica as injustiças sociais e políticas que permeavam a sociedade da época. Ele também ressalta a importância da compreensão e da empatia em relação aos deserdados da fortuna, simbolizados no sertanejo nordestino, como forma de buscar soluções para os problemas enfrentados pelo Brasil naquele contexto histórico.'}\n"
     ]
    }
   ],
   "source": [
    "# Iterando sobre as perguntas e obtendo as respostas\n",
    "# 'enumerate' permite obter tanto o índice quanto a pergunta de cada item na lista\n",
    "for index, question in enumerate(questions):\n",
    "    # Obtendo a resposta para a pergunta atual utilizando a função 'answer_question'\n",
    "    resposta = answer_question(question)\n",
    "    # Exibindo o número da pergunta, a pergunta e a resposta gerada\n",
    "    print({\"numero\": index, \"pergunta\": question, \"resposta\": resposta})"
   ]
  }
 ],
 "metadata": {
  "kernelspec": {
   "display_name": "venv",
   "language": "python",
   "name": "python3"
  },
  "language_info": {
   "codemirror_mode": {
    "name": "ipython",
    "version": 3
   },
   "file_extension": ".py",
   "mimetype": "text/x-python",
   "name": "python",
   "nbconvert_exporter": "python",
   "pygments_lexer": "ipython3",
   "version": "3.12.6"
  }
 },
 "nbformat": 4,
 "nbformat_minor": 2
}
